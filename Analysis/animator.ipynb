{
 "cells": [
  {
   "cell_type": "code",
   "execution_count": 2,
   "metadata": {},
   "outputs": [],
   "source": [
    "from matplotlib.patches import Rectangle\n",
    "from matplotlib import gridspec\n",
    "import matplotlib.animation as animation\n",
    "from matplotlib.lines import Line2D\n",
    "import matplotlib.cm as cm\n",
    "from matplotlib.gridspec import GridSpec\n",
    "import matplotlib\n",
    "\n",
    "import time\n",
    "import pandas as pd\n",
    "import numpy as np\n",
    "import matplotlib.pyplot as plt\n",
    "import seaborn as sns"
   ]
  },
  {
   "cell_type": "code",
   "execution_count": 3,
   "metadata": {},
   "outputs": [],
   "source": [
    "# import matplotlib.patches as mpatches\n",
    "\n",
    "\n",
    "# class AnyObject:\n",
    "#     pass\n",
    "\n",
    "\n",
    "# class AnyObjectHandler:\n",
    "#     def legend_artist(self, legend, orig_handle, fontsize, handlebox):\n",
    "#         x0, y0 = 0, 0\n",
    "#         width, height = 5, 10\n",
    "#         patch = mpatches.Rectangle([x0, y0], width, height, facecolor='blue',\n",
    "#                                    edgecolor='black', hatch='xx', lw=2,\n",
    "#                                    transform=handlebox.get_transform())\n",
    "#         handlebox.add_artist(patch)\n",
    "#         return patch\n",
    "\n",
    "\n",
    "# plt.legend([AnyObject(), AnyObject()], ['My first handler','2'],\n",
    "#            handler_map={AnyObject: AnyObjectHandler()})"
   ]
  },
  {
   "cell_type": "code",
   "execution_count": 4,
   "metadata": {},
   "outputs": [],
   "source": [
    "def get_poses( N, r = 1 ):\n",
    "    thetas = np.arange(N) / N * 2 * np.pi\n",
    "    return np.cos(thetas) * r, np.sin(thetas) * r"
   ]
  },
  {
   "cell_type": "code",
   "execution_count": 5,
   "metadata": {},
   "outputs": [
    {
     "data": {
      "image/png": "[encoded data removed]",
      "text/plain": [
       "<Figure size 450x360 with 2 Axes>"
      ]
     },
     "metadata": {
      "needs_background": "light"
     },
     "output_type": "display_data"
    }
   ],
   "source": [
    "figure_ratio = 0.35;\n",
    "fig = plt.figure(figsize=(5*(0.9+figure_ratio), 5 ) );\n",
    "fig.subplots_adjust(wspace = 0);\n",
    "gs = gridspec.GridSpec(1, 2, width_ratios=[1, figure_ratio]); \n",
    "ax = plt.subplot(gs[0]);\n",
    "ay = plt.subplot(gs[1]);\n",
    "# az = plt.subplot(gs[2]);\n"
   ]
  },
  {
   "cell_type": "code",
   "execution_count": 6,
   "metadata": {},
   "outputs": [
    {
     "data": {
      "image/png": "[encoded data removed]",
      "text/plain": [
       "<Figure size 450x360 with 3 Axes>"
      ]
     },
     "metadata": {
      "needs_background": "light"
     },
     "output_type": "display_data"
    }
   ],
   "source": [
    "figure_ratio = 0.35;\n",
    "fig = plt.figure(figsize=(5*(0.9+figure_ratio), 5) );\n",
    "fig.subplots_adjust(wspace = 0);\n",
    "gs = gridspec.GridSpec(1, 3, width_ratios=[1, figure_ratio, 0.05]); \n",
    "ax = plt.subplot(gs[0]);\n",
    "ay = plt.subplot(gs[1]);\n",
    "az = plt.subplot(gs[2]);\n",
    "\n"
   ]
  },
  {
   "cell_type": "code",
   "execution_count": 7,
   "metadata": {},
   "outputs": [
    {
     "data": {
      "image/png": "[encoded data removed]",
      "text/plain": [
       "<Figure size 432x288 with 3 Axes>"
      ]
     },
     "metadata": {
      "needs_background": "light"
     },
     "output_type": "display_data"
    }
   ],
   "source": [
    "fig = plt.figure()\n",
    "# fig.suptitle(\"Controlli۲ng spacing around and between subplots\")\n",
    "\n",
    "# gs1 = GridSpec(3, 3, left=0.05, right=0.48, wspace=0.05)\n",
    "# ax1 = fig.add_subplot(gs1[:-1, :])\n",
    "# ax2 = fig.add_subplot(gs1[-1, :-1])\n",
    "# ax3 = fig.add_subplot(gs1[-1, -1])\n",
    "\n",
    "gs2 = GridSpec(3, 3)\n",
    "ax = fig.add_subplot(gs2[:, :-1])\n",
    "ay = fig.add_subplot(gs2[:-1, -1])\n",
    "az = fig.add_subplot(gs2[-1, -1])\n",
    "\n",
    "pos = az.get_position()\n",
    "pos.y0 += 0.24\n",
    "pos.y1 += 0.24\n"
   ]
  },
  {
   "cell_type": "code",
   "execution_count": 8,
   "metadata": {},
   "outputs": [],
   "source": [
    "matplotlib.rcParams.update({'font.size': 9})\n",
    "\n",
    "\n",
    "az.set_position(pos)\n",
    "\n",
    "\n",
    "\n",
    "alpha = 1\n",
    "def animate(t, create_legend = True):\n",
    "    \n",
    "    ax.clear()\n",
    "    az.clear()\n",
    "    ay.clear()\n",
    "    N = len(agents_history[0])   \n",
    "\n",
    "    x, y = get_poses(N)\n",
    "    \n",
    "    colors = np.array([ 'greenyellow', 'red' ])\n",
    "    all_colors = colors[agents_history[t]['state']]\n",
    "    \n",
    "    ax.scatter( x, y, c = all_colors, s = 120, edgecolors='k', vmin=0, vmax=1, marker='p' )\n",
    "\n",
    "\n",
    "    eps = 0.05\n",
    "    for i in range(N):\n",
    "        ax.add_patch(Rectangle(xy=(x[i] + eps, y[i] + eps) ,width=0.1, height=0.2 * agents_history[t][i]['resource'], linewidth=1, color='deepskyblue', fill=True))\n",
    "\n",
    "    for i in range(N):\n",
    "        ax.add_patch(Rectangle(xy=(x[i] + eps, y[i] + eps) ,width=0.1, height=0.2 , linewidth=1, color='k', fill=False))\n",
    "\n",
    "    w_num = len(w_resources_history[0])\n",
    "\n",
    "    x_w, y_w = get_poses(w_num, 0.5)\n",
    "\n",
    "\n",
    "    for ind, interaction in interaction_history.loc[ interaction_history['t'] == t ].iterrows():\n",
    "        agent = interaction['agent']\n",
    "        w_resource = interaction['w_resource']\n",
    "        ax.plot( (x_w[ w_resource ], x[ agent ])\\\n",
    "            , ( y_w[ w_resource] , y[ agent ] ) , 'k', linewidth = 1, linestyle = '--' )\n",
    "#         ax.arrow( x[ agent ], y[ agent ]\\\n",
    "#             , x_w[ w_resource ] - x[ agent ], y_w[ w_resource] - y[ agent ]\\\n",
    "#                 ,head_width = 0.03, color = 'k', linewidth = 1, linestyle = '-' )\n",
    "\n",
    "\n",
    "\n",
    "\n",
    "\n",
    "    im = ax.scatter( x_w, y_w, c = w_resources_history[t]['pollution'], cmap = 'YlOrRd', s = 300 * w_resources_history[t]['amount'], edgecolors='k', vmin=0, vmax=1 )\n",
    "#     ax.scatter( x_w, y_w, c = w_resources_history[t]['pollution'], cmap = \"#69d\", s = 300 * w_resources_history[t]['amount'], edgecolors='k', vmin=0, vmax=1 )\n",
    "\n",
    "\n",
    "    ax.axis('off')\n",
    "    # ay.axis('off')\n",
    "\n",
    "    ax.axis('equal')\n",
    "    az.set_aspect(0.1)\n",
    "#     az.set_anchor([0,0,0,0])\n",
    "\n",
    "#     plt.show()\n",
    "    #\"\"\"\n",
    "    const_colorbar = fig.colorbar(im, cax=az, orientation = 'horizontal', ticks=[0,1])\n",
    "#     az.set_xticks( [0,1] )\n",
    "#     ax.set_xticklabels(labels=['low', 'high'], rotation=90, ha='right')\n",
    "    \n",
    "#     cbar = fig.colorbar(cax, ticks=[-1, 0, 1])\n",
    "    const_colorbar.ax.set_xticklabels(['low pollution', 'high pollution'])  # vertically oriented colorbar\n",
    "\n",
    "    if create_legend:\n",
    "        #grid = np.mgrid[0.2:0.8:3j, 0.2:0.8:3j].reshape(2, -1).T\n",
    "        ay.axis('off')\n",
    "        legend_elements = [\n",
    "                       Line2D([0], [0], marker='p', color='w', markeredgecolor='k', label='S Household',\n",
    "                              markerfacecolor='greenyellow', markersize=10, alpha = alpha),\n",
    "                              \n",
    "                       Line2D([0], [0], marker='p', color='w', markeredgecolor='k', label='I Household',\n",
    "                              markerfacecolor='red', markersize=10, alpha = alpha) ,\n",
    "                              \n",
    "#                        Line2D([0], [0], marker='o', color='w', markeredgecolor='k', label='Small W Rsrc',\n",
    "#                               markerfacecolor='snow', markersize=5, alpha = alpha),\n",
    "            \n",
    "                       Line2D([0], [0], marker='o', color='w', markeredgecolor='k', label='W Rsrc Size',\n",
    "                              markerfacecolor='snow', markersize=10, alpha = alpha),\n",
    "                           \n",
    "                        Rectangle(xy=(0,0) ,width=0.05, height=1000 , linewidth=1\\\n",
    "                                  ,label='Household Rsrc', facecolor = 'deepskyblue', edgecolor='k', fill=True)\n",
    "    ]\n",
    "        ay.legend( handles=legend_elements, loc = 'center', frameon = False)\n",
    "matplotlib.rcParams['legend.handlelength'] = 1\n",
    "matplotlib.rcParams['legend.handleheight'] = 2"
   ]
  },
  {
   "cell_type": "code",
   "execution_count": 9,
   "metadata": {},
   "outputs": [
    {
     "ename": "IndexError",
     "evalue": "index 20 is out of bounds for axis 0 with size 20",
     "output_type": "error",
     "traceback": [
      "\u001b[0;31m---------------------------------------------------------------------------\u001b[0m",
      "\u001b[0;31mIndexError\u001b[0m                                Traceback (most recent call last)",
      "\u001b[0;32m<ipython-input-9-f0fd4d911bbd>\u001b[0m in \u001b[0;36m<module>\u001b[0;34m\u001b[0m\n\u001b[1;32m     12\u001b[0m \u001b[0mwriter\u001b[0m \u001b[0;34m=\u001b[0m \u001b[0manimation\u001b[0m\u001b[0;34m.\u001b[0m\u001b[0mwriters\u001b[0m\u001b[0;34m[\u001b[0m\u001b[0;34m'ffmpeg'\u001b[0m\u001b[0;34m]\u001b[0m\u001b[0;34m(\u001b[0m\u001b[0mfps\u001b[0m \u001b[0;34m=\u001b[0m \u001b[0;36m1\u001b[0m\u001b[0;34m)\u001b[0m\u001b[0;34m\u001b[0m\u001b[0;34m\u001b[0m\u001b[0m\n\u001b[1;32m     13\u001b[0m \u001b[0mfile_name\u001b[0m \u001b[0;34m=\u001b[0m \u001b[0mstr\u001b[0m\u001b[0;34m(\u001b[0m\u001b[0mtime\u001b[0m\u001b[0;34m.\u001b[0m\u001b[0mgmtime\u001b[0m\u001b[0;34m(\u001b[0m\u001b[0;34m)\u001b[0m\u001b[0;34m[\u001b[0m\u001b[0;36m0\u001b[0m\u001b[0;34m:\u001b[0m\u001b[0;36m5\u001b[0m\u001b[0;34m]\u001b[0m\u001b[0;34m)\u001b[0m \u001b[0;34m+\u001b[0m \u001b[0;34m'.mp4'\u001b[0m\u001b[0;34m\u001b[0m\u001b[0;34m\u001b[0m\u001b[0m\n\u001b[0;32m---> 14\u001b[0;31m \u001b[0mani\u001b[0m\u001b[0;34m.\u001b[0m\u001b[0msave\u001b[0m\u001b[0;34m(\u001b[0m \u001b[0mfile_name\u001b[0m\u001b[0;34m,\u001b[0m \u001b[0mdpi\u001b[0m\u001b[0;34m=\u001b[0m\u001b[0mdpi\u001b[0m\u001b[0;34m,\u001b[0m \u001b[0mwriter\u001b[0m \u001b[0;34m=\u001b[0m \u001b[0mwriter\u001b[0m\u001b[0;34m)\u001b[0m\u001b[0;34m\u001b[0m\u001b[0;34m\u001b[0m\u001b[0m\n\u001b[0m\u001b[1;32m     15\u001b[0m \u001b[0;34m\u001b[0m\u001b[0m\n\u001b[1;32m     16\u001b[0m \u001b[0mfile_name\u001b[0m\u001b[0;34m\u001b[0m\u001b[0;34m\u001b[0m\u001b[0m\n",
      "\u001b[0;32m/usr/local/lib/python3.6/dist-packages/matplotlib/animation.py\u001b[0m in \u001b[0;36msave\u001b[0;34m(self, filename, writer, fps, dpi, codec, bitrate, extra_args, metadata, extra_anim, savefig_kwargs, progress_callback)\u001b[0m\n\u001b[1;32m   1146\u001b[0m                     \u001b[0;32mfor\u001b[0m \u001b[0manim\u001b[0m\u001b[0;34m,\u001b[0m \u001b[0md\u001b[0m \u001b[0;32min\u001b[0m \u001b[0mzip\u001b[0m\u001b[0;34m(\u001b[0m\u001b[0mall_anim\u001b[0m\u001b[0;34m,\u001b[0m \u001b[0mdata\u001b[0m\u001b[0;34m)\u001b[0m\u001b[0;34m:\u001b[0m\u001b[0;34m\u001b[0m\u001b[0;34m\u001b[0m\u001b[0m\n\u001b[1;32m   1147\u001b[0m                         \u001b[0;31m# TODO: See if turning off blit is really necessary\u001b[0m\u001b[0;34m\u001b[0m\u001b[0;34m\u001b[0m\u001b[0;34m\u001b[0m\u001b[0m\n\u001b[0;32m-> 1148\u001b[0;31m                         \u001b[0manim\u001b[0m\u001b[0;34m.\u001b[0m\u001b[0m_draw_next_frame\u001b[0m\u001b[0;34m(\u001b[0m\u001b[0md\u001b[0m\u001b[0;34m,\u001b[0m \u001b[0mblit\u001b[0m\u001b[0;34m=\u001b[0m\u001b[0;32mFalse\u001b[0m\u001b[0;34m)\u001b[0m\u001b[0;34m\u001b[0m\u001b[0;34m\u001b[0m\u001b[0m\n\u001b[0m\u001b[1;32m   1149\u001b[0m                         \u001b[0;32mif\u001b[0m \u001b[0mprogress_callback\u001b[0m \u001b[0;32mis\u001b[0m \u001b[0;32mnot\u001b[0m \u001b[0;32mNone\u001b[0m\u001b[0;34m:\u001b[0m\u001b[0;34m\u001b[0m\u001b[0;34m\u001b[0m\u001b[0m\n\u001b[1;32m   1150\u001b[0m                             \u001b[0mprogress_callback\u001b[0m\u001b[0;34m(\u001b[0m\u001b[0mframe_number\u001b[0m\u001b[0;34m,\u001b[0m \u001b[0mtotal_frames\u001b[0m\u001b[0;34m)\u001b[0m\u001b[0;34m\u001b[0m\u001b[0;34m\u001b[0m\u001b[0m\n",
      "\u001b[0;32m/usr/local/lib/python3.6/dist-packages/matplotlib/animation.py\u001b[0m in \u001b[0;36m_draw_next_frame\u001b[0;34m(self, framedata, blit)\u001b[0m\n\u001b[1;32m   1186\u001b[0m         \u001b[0;31m# post- draw, as well as the drawing of the frame itself.\u001b[0m\u001b[0;34m\u001b[0m\u001b[0;34m\u001b[0m\u001b[0;34m\u001b[0m\u001b[0m\n\u001b[1;32m   1187\u001b[0m         \u001b[0mself\u001b[0m\u001b[0;34m.\u001b[0m\u001b[0m_pre_draw\u001b[0m\u001b[0;34m(\u001b[0m\u001b[0mframedata\u001b[0m\u001b[0;34m,\u001b[0m \u001b[0mblit\u001b[0m\u001b[0;34m)\u001b[0m\u001b[0;34m\u001b[0m\u001b[0;34m\u001b[0m\u001b[0m\n\u001b[0;32m-> 1188\u001b[0;31m         \u001b[0mself\u001b[0m\u001b[0;34m.\u001b[0m\u001b[0m_draw_frame\u001b[0m\u001b[0;34m(\u001b[0m\u001b[0mframedata\u001b[0m\u001b[0;34m)\u001b[0m\u001b[0;34m\u001b[0m\u001b[0;34m\u001b[0m\u001b[0m\n\u001b[0m\u001b[1;32m   1189\u001b[0m         \u001b[0mself\u001b[0m\u001b[0;34m.\u001b[0m\u001b[0m_post_draw\u001b[0m\u001b[0;34m(\u001b[0m\u001b[0mframedata\u001b[0m\u001b[0;34m,\u001b[0m \u001b[0mblit\u001b[0m\u001b[0;34m)\u001b[0m\u001b[0;34m\u001b[0m\u001b[0;34m\u001b[0m\u001b[0m\n\u001b[1;32m   1190\u001b[0m \u001b[0;34m\u001b[0m\u001b[0m\n",
      "\u001b[0;32m/usr/local/lib/python3.6/dist-packages/matplotlib/animation.py\u001b[0m in \u001b[0;36m_draw_frame\u001b[0;34m(self, framedata)\u001b[0m\n\u001b[1;32m   1764\u001b[0m         \u001b[0;31m# Call the func with framedata and args. If blitting is desired,\u001b[0m\u001b[0;34m\u001b[0m\u001b[0;34m\u001b[0m\u001b[0;34m\u001b[0m\u001b[0m\n\u001b[1;32m   1765\u001b[0m         \u001b[0;31m# func needs to return a sequence of any artists that were modified.\u001b[0m\u001b[0;34m\u001b[0m\u001b[0;34m\u001b[0m\u001b[0;34m\u001b[0m\u001b[0m\n\u001b[0;32m-> 1766\u001b[0;31m         \u001b[0mself\u001b[0m\u001b[0;34m.\u001b[0m\u001b[0m_drawn_artists\u001b[0m \u001b[0;34m=\u001b[0m \u001b[0mself\u001b[0m\u001b[0;34m.\u001b[0m\u001b[0m_func\u001b[0m\u001b[0;34m(\u001b[0m\u001b[0mframedata\u001b[0m\u001b[0;34m,\u001b[0m \u001b[0;34m*\u001b[0m\u001b[0mself\u001b[0m\u001b[0;34m.\u001b[0m\u001b[0m_args\u001b[0m\u001b[0;34m)\u001b[0m\u001b[0;34m\u001b[0m\u001b[0;34m\u001b[0m\u001b[0m\n\u001b[0m\u001b[1;32m   1767\u001b[0m         \u001b[0;32mif\u001b[0m \u001b[0mself\u001b[0m\u001b[0;34m.\u001b[0m\u001b[0m_blit\u001b[0m\u001b[0;34m:\u001b[0m\u001b[0;34m\u001b[0m\u001b[0;34m\u001b[0m\u001b[0m\n\u001b[1;32m   1768\u001b[0m             \u001b[0;32mif\u001b[0m \u001b[0mself\u001b[0m\u001b[0;34m.\u001b[0m\u001b[0m_drawn_artists\u001b[0m \u001b[0;32mis\u001b[0m \u001b[0;32mNone\u001b[0m\u001b[0;34m:\u001b[0m\u001b[0;34m\u001b[0m\u001b[0;34m\u001b[0m\u001b[0m\n",
      "\u001b[0;32m<ipython-input-8-fd2a85bd8905>\u001b[0m in \u001b[0;36manimate\u001b[0;34m(t, create_legend)\u001b[0m\n\u001b[1;32m     17\u001b[0m \u001b[0;34m\u001b[0m\u001b[0m\n\u001b[1;32m     18\u001b[0m     \u001b[0mcolors\u001b[0m \u001b[0;34m=\u001b[0m \u001b[0mnp\u001b[0m\u001b[0;34m.\u001b[0m\u001b[0marray\u001b[0m\u001b[0;34m(\u001b[0m\u001b[0;34m[\u001b[0m \u001b[0;34m'greenyellow'\u001b[0m\u001b[0;34m,\u001b[0m \u001b[0;34m'red'\u001b[0m \u001b[0;34m]\u001b[0m\u001b[0;34m)\u001b[0m\u001b[0;34m\u001b[0m\u001b[0;34m\u001b[0m\u001b[0m\n\u001b[0;32m---> 19\u001b[0;31m     \u001b[0mall_colors\u001b[0m \u001b[0;34m=\u001b[0m \u001b[0mcolors\u001b[0m\u001b[0;34m[\u001b[0m\u001b[0magents_history\u001b[0m\u001b[0;34m[\u001b[0m\u001b[0mt\u001b[0m\u001b[0;34m]\u001b[0m\u001b[0;34m[\u001b[0m\u001b[0;34m'state'\u001b[0m\u001b[0;34m]\u001b[0m\u001b[0;34m]\u001b[0m\u001b[0;34m\u001b[0m\u001b[0;34m\u001b[0m\u001b[0m\n\u001b[0m\u001b[1;32m     20\u001b[0m \u001b[0;34m\u001b[0m\u001b[0m\n\u001b[1;32m     21\u001b[0m     \u001b[0max\u001b[0m\u001b[0;34m.\u001b[0m\u001b[0mscatter\u001b[0m\u001b[0;34m(\u001b[0m \u001b[0mx\u001b[0m\u001b[0;34m,\u001b[0m \u001b[0my\u001b[0m\u001b[0;34m,\u001b[0m \u001b[0mc\u001b[0m \u001b[0;34m=\u001b[0m \u001b[0mall_colors\u001b[0m\u001b[0;34m,\u001b[0m \u001b[0ms\u001b[0m \u001b[0;34m=\u001b[0m \u001b[0;36m120\u001b[0m\u001b[0;34m,\u001b[0m \u001b[0medgecolors\u001b[0m\u001b[0;34m=\u001b[0m\u001b[0;34m'k'\u001b[0m\u001b[0;34m,\u001b[0m \u001b[0mvmin\u001b[0m\u001b[0;34m=\u001b[0m\u001b[0;36m0\u001b[0m\u001b[0;34m,\u001b[0m \u001b[0mvmax\u001b[0m\u001b[0;34m=\u001b[0m\u001b[0;36m1\u001b[0m\u001b[0;34m,\u001b[0m \u001b[0mmarker\u001b[0m\u001b[0;34m=\u001b[0m\u001b[0;34m'p'\u001b[0m \u001b[0;34m)\u001b[0m\u001b[0;34m\u001b[0m\u001b[0;34m\u001b[0m\u001b[0m\n",
      "\u001b[0;31mIndexError\u001b[0m: index 20 is out of bounds for axis 0 with size 20"
     ]
    }
   ],
   "source": [
    "agents_history = np.load('../Results/agents_history.npy')\n",
    "w_resources_history = np.load('../Results/w_resources_history.npy')\n",
    "interaction_history = pd.read_csv('../Results/interaction_history.csv')\n",
    "\n",
    "\n",
    "ani = animation.FuncAnimation(fig, animate, save_count = 999999)\n",
    "#ani = animation.FuncAnimation(fig, animate)\n",
    "dpi = 200\n",
    "# file_name = str(time.gmtime()[0:5]) + '.GIF'\n",
    "# ani.save( file_name ,dpi=dpi, writer = 'imagemagick')\n",
    "\n",
    "writer = animation.writers['ffmpeg'](fps = 1)\n",
    "file_name = str(time.gmtime()[0:5]) + '.mp4'\n",
    "ani.save( file_name, dpi=dpi, writer = writer)\n",
    "\n",
    "file_name"
   ]
  },
  {
   "cell_type": "markdown",
   "metadata": {},
   "source": [
    "### "
   ]
  }
 ],
 "metadata": {
  "kernelspec": {
   "display_name": "Python 3",
   "language": "python",
   "name": "python3"
  },
  "language_info": {
   "codemirror_mode": {
    "name": "ipython",
    "version": 3
   },
   "file_extension": ".py",
   "mimetype": "text/x-python",
   "name": "python",
   "nbconvert_exporter": "python",
   "pygments_lexer": "ipython3",
   "version": "3.6.9"
  }
 },
 "nbformat": 4,
 "nbformat_minor": 2
}
